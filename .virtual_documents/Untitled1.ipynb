import numpy as np
import matplotlib.pyplot as plt

# Constants
m = 1.0  # mass of the particle
hbar = 1.0  # Planck's constant

# Potential function
def V(x):
    return np.piecewise(x, [x < 0, x >= 0], [0, 20])

# Finite Difference Method
N = 1000
a = -1.0
b = 1.0
dx = (b - a) / N

x = np.linspace(a, b, N)
dx = x[1] - x[0]
T = np.zeros((N - 2, N - 2))

for i in range(N - 2):
    for j in range(N - 2):
        if i == j:
            T[i, j] = -2
        elif np.abs(i - j) == 1:
            T[i, j] = 1

# Convert T to its actual form
T = -((hbar ** 2) / (2 * m * (dx ** 2))) * T

# Potential Matrix
V_matrix = np.diag(V(x)[1:-1])

# Hamiltonian
H = T + V_matrix

# Compute eigenvalues and eigenfunctions
eigvals, eigfuncs = np.linalg.eigh(H)

# Normalize the wavefunctions
eigfuncs = eigfuncs / np.sqrt(dx)

# Plot the first few eigenfunctions
plt.figure(figsize=(10, 6))
for i in range(3):
    plt.plot(x[1:-1], eigfuncs[:, i], label=f"E = {eigvals[i]:.2f}")

plt.title("Quantum Tunneling: Wavefunctions")
plt.xlabel("Position")
plt.ylabel("Wavefunction Amplitude")
plt.grid(True)
plt.legend()
plt.show()

# Plot the corresponding probability densities
plt.figure(figsize=(10, 6))
for i in range(3):
    plt.plot(x[1:-1], np.abs(eigfuncs[:, i])**2, label=f"E = {eigvals[i]:.2f}")

plt.title("Quantum Tunneling: Probability Densities")
plt.xlabel("Position")
plt.ylabel("Probability Density")
plt.grid(True)
plt.legend()
plt.show()




