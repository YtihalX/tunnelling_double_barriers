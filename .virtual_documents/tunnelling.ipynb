from sympy import *
from sympy.physics.quantum.constants import hbar
A = symbols('A:4')
B = symbols('B:4')
k0, k1 = symbols('k:2', real=True)
V_0, a, b, m, E = symbols('V_0, a, b, m, E', positive = True)
x = symbols('x', real = True)
psi1 = exp(k0*x*I)+A[0]*exp(-k0*x*I)
psi2 = B[0] * exp(k1 * x) + B[1] * exp(-k1 * x)
psi3 = A[1] * exp(k0 * x * I) + A[2] * exp(-k0 * x *I)
psi4 = B[2] * exp(k1 * x) + B[3] * exp(-k1 * x)
psi5 = A[3] * exp(k0 * x * I)
eqs = (
    Eq(psi1.subs(x, 0), psi2.subs(x, 0)),
    Eq(psi1.diff(x).subs(x, 0), psi2.diff(x).subs(x, 0)),
    Eq(psi2.subs(x, a), psi3.subs(x, a)),
    Eq(psi2.diff(x).subs(x, a), psi3.diff(x).subs(x, a)),
    Eq(psi3.subs(x, 2*a), psi4.subs(x, 2*a)),
    Eq(psi3.diff(x).subs(x, 2*a), psi4.diff(x).subs(x, 2*a)),
    Eq(psi4.subs(x, 3*a), psi5.subs(x, 3*a)),
    Eq(psi4.diff(x).subs(x, 3*a), psi5.diff(x).subs(x, 3*a))
)
vars = A+B
# sol = solve(eqs, A+B)



sol, = linsolve(eqs, A+B)


sol = [simplify(s) for s in sol]


R = sol[3]
R


kappa = symbols('kappa')


R = R.subs({k0: sqrt(2*m*E)*0.01, k1: sqrt(2*m*(V_0-E))*0.01})


R = R.subs(E, kappa*V_0)
r = conjugate(R)


import numpy as np
import matplotlib.pyplot as plt
from ipywidgets import interact


Probs = lambdify( [kappa, V_0], R.subs({m: 1, a: 1, b: 1}),modules=[{"sqrt": np.lib.scimath.sqrt}, "numpy"])
probs = lambdify( [kappa, V_0], r.subs({m: 1, a: 1, b: 1}),modules=[{"sqrt": np.lib.scimath.sqrt}, "numpy"])
def plotfunc(V_0):
    x = np.hstack((np.linspace(0.01, 0.99, 500), np.linspace(1.1, 5, 500)))
    y = np.zeros(1000, dtype=complex)
    for i in range(1000):
        y[i] = probs(x[i], V_0) * Probs(x[i], V_0)
    plt.plot(x, y)
    plt.show()
    


x = np.hstack((np.linspace(0.01, 0.99, 500), np.linspace(1.1, 5, 500)))
y = np.zeros(1000, dtype=complex)
probs(2, 120)*Probs(2, 120)


Probs(9.3, 120)*probs(9.3, 120)


interact(plotfunc, V_0 = (100, 300))



