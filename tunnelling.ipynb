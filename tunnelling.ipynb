{
 "cells": [
  {
   "cell_type": "code",
   "execution_count": 1,
   "id": "1525ec7e-06a2-41ea-90ab-dd4a9e8eac5e",
   "metadata": {
    "tags": []
   },
   "outputs": [],
   "source": [
    "from sympy import *\n",
    "from sympy.physics.quantum.constants import hbar\n",
    "A = symbols('A:4')\n",
    "B = symbols('B:4')\n",
    "k0, k1 = symbols('k:2', real=True)\n",
    "V_0, a, b, m, E = symbols('V_0, a, b, m, E', positive = True)\n",
    "x = symbols('x', real = True)\n",
    "psi1 = exp(k0*x*I)+A[0]*exp(-k0*x*I)\n",
    "psi2 = B[0] * exp(k1 * x) + B[1] * exp(-k1 * x)\n",
    "psi3 = A[1] * exp(k0 * x * I) + A[2] * exp(-k0 * x *I)\n",
    "psi4 = B[2] * exp(k1 * x) + B[3] * exp(-k1 * x)\n",
    "psi5 = A[3] * exp(k0 * x * I)\n",
    "eqs = (\n",
    "    Eq(psi1.subs(x, 0), psi2.subs(x, 0)),\n",
    "    Eq(psi1.diff(x).subs(x, 0), psi2.diff(x).subs(x, 0)),\n",
    "    Eq(psi2.subs(x, a), psi3.subs(x, a)),\n",
    "    Eq(psi2.diff(x).subs(x, a), psi3.diff(x).subs(x, a)),\n",
    "    Eq(psi3.subs(x, 2*a), psi4.subs(x, 2*a)),\n",
    "    Eq(psi3.diff(x).subs(x, 2*a), psi4.diff(x).subs(x, 2*a)),\n",
    "    Eq(psi4.subs(x, 3*a), psi5.subs(x, 3*a)),\n",
    "    Eq(psi4.diff(x).subs(x, 3*a), psi5.diff(x).subs(x, 3*a))\n",
    ")\n",
    "vars = A+B\n",
    "# sol = solve(eqs, A+B)\n"
   ]
  },
  {
   "cell_type": "code",
   "execution_count": 2,
   "id": "e65ced29-dc3b-4b1c-9896-bbf2a9434b5c",
   "metadata": {
    "tags": []
   },
   "outputs": [],
   "source": [
    "sol, = linsolve(eqs, A+B)"
   ]
  },
  {
   "cell_type": "code",
   "execution_count": 3,
   "id": "1182fb92-4cd7-4601-95cd-16e6a550257e",
   "metadata": {
    "tags": []
   },
   "outputs": [],
   "source": [
    "sol = [simplify(s) for s in sol]"
   ]
  },
  {
   "cell_type": "code",
   "execution_count": 4,
   "id": "f12c5095-5e51-417d-8825-11dab22de9fb",
   "metadata": {
    "tags": []
   },
   "outputs": [
    {
     "data": {
      "text/latex": [
       "$\\displaystyle \\frac{16 k_{0}^{2} k_{1}^{2} e^{2 a \\left(- i k_{0} + k_{1}\\right)}}{- k_{0}^{4} e^{4 a k_{1}} + 2 k_{0}^{4} e^{2 a k_{1}} - 2 k_{0}^{4} e^{2 a \\left(i k_{0} + k_{1}\\right)} + k_{0}^{4} e^{2 a \\left(i k_{0} + 2 k_{1}\\right)} + k_{0}^{4} e^{2 i a k_{0}} - k_{0}^{4} - 4 i k_{0}^{3} k_{1} e^{4 a k_{1}} + 4 i k_{0}^{3} k_{1} + 6 k_{0}^{2} k_{1}^{2} e^{4 a k_{1}} + 4 k_{0}^{2} k_{1}^{2} e^{2 a k_{1}} - 4 k_{0}^{2} k_{1}^{2} e^{2 a \\left(i k_{0} + k_{1}\\right)} + 2 k_{0}^{2} k_{1}^{2} e^{2 a \\left(i k_{0} + 2 k_{1}\\right)} + 2 k_{0}^{2} k_{1}^{2} e^{2 i a k_{0}} + 6 k_{0}^{2} k_{1}^{2} + 4 i k_{0} k_{1}^{3} e^{4 a k_{1}} - 4 i k_{0} k_{1}^{3} - k_{1}^{4} e^{4 a k_{1}} + 2 k_{1}^{4} e^{2 a k_{1}} - 2 k_{1}^{4} e^{2 a \\left(i k_{0} + k_{1}\\right)} + k_{1}^{4} e^{2 a \\left(i k_{0} + 2 k_{1}\\right)} + k_{1}^{4} e^{2 i a k_{0}} - k_{1}^{4}}$"
      ],
      "text/plain": [
       "16*k0**2*k1**2*exp(2*a*(-I*k0 + k1))/(-k0**4*exp(4*a*k1) + 2*k0**4*exp(2*a*k1) - 2*k0**4*exp(2*a*(I*k0 + k1)) + k0**4*exp(2*a*(I*k0 + 2*k1)) + k0**4*exp(2*I*a*k0) - k0**4 - 4*I*k0**3*k1*exp(4*a*k1) + 4*I*k0**3*k1 + 6*k0**2*k1**2*exp(4*a*k1) + 4*k0**2*k1**2*exp(2*a*k1) - 4*k0**2*k1**2*exp(2*a*(I*k0 + k1)) + 2*k0**2*k1**2*exp(2*a*(I*k0 + 2*k1)) + 2*k0**2*k1**2*exp(2*I*a*k0) + 6*k0**2*k1**2 + 4*I*k0*k1**3*exp(4*a*k1) - 4*I*k0*k1**3 - k1**4*exp(4*a*k1) + 2*k1**4*exp(2*a*k1) - 2*k1**4*exp(2*a*(I*k0 + k1)) + k1**4*exp(2*a*(I*k0 + 2*k1)) + k1**4*exp(2*I*a*k0) - k1**4)"
      ]
     },
     "execution_count": 4,
     "metadata": {},
     "output_type": "execute_result"
    }
   ],
   "source": [
    "R = sol[3]\n",
    "R"
   ]
  },
  {
   "cell_type": "code",
   "execution_count": 5,
   "id": "0d2dffdd-1d9a-4308-8816-842c9892ffb8",
   "metadata": {
    "tags": []
   },
   "outputs": [],
   "source": [
    "kappa = symbols('kappa')"
   ]
  },
  {
   "cell_type": "code",
   "execution_count": 6,
   "id": "50eb444f-7b02-4377-a147-0cec239b3e78",
   "metadata": {
    "tags": []
   },
   "outputs": [],
   "source": [
    "R = R.subs({k0: sqrt(2*m*E)*0.01, k1: sqrt(2*m*(V_0-E))*0.01})"
   ]
  },
  {
   "cell_type": "code",
   "execution_count": 7,
   "id": "ce793a05-5fdd-4c10-872d-854fe3b93e4d",
   "metadata": {
    "tags": []
   },
   "outputs": [],
   "source": [
    "R = R.subs(E, kappa*V_0)\n",
    "r = conjugate(R)"
   ]
  },
  {
   "cell_type": "code",
   "execution_count": 8,
   "id": "cfe92dae-b5a3-4800-9a50-b9149502a31d",
   "metadata": {
    "tags": []
   },
   "outputs": [],
   "source": [
    "import numpy as np\n",
    "import matplotlib.pyplot as plt\n",
    "from ipywidgets import interact"
   ]
  },
  {
   "cell_type": "code",
   "execution_count": 43,
   "id": "9cac8715-1018-4d88-a30d-6081b25f1509",
   "metadata": {
    "tags": []
   },
   "outputs": [],
   "source": [
    "Probs = lambdify( [kappa, V_0], R.subs({m: 1, a: 1, b: 1}),modules=[{\"sqrt\": np.lib.scimath.sqrt}, \"numpy\"])\n",
    "probs = lambdify( [kappa, V_0], r.subs({m: 1, a: 1, b: 1}),modules=[{\"sqrt\": np.lib.scimath.sqrt}, \"numpy\"])\n",
    "def plotfunc(V_0):\n",
    "    x = np.hstack((np.linspace(0.01, 0.99, 500), np.linspace(1.1, 5, 500)))\n",
    "    y = np.zeros(1000, dtype=complex)\n",
    "    for i in range(1000):\n",
    "        y[i] = probs(x[i], V_0) * Probs(x[i], V_0)\n",
    "    plt.plot(x, y)\n",
    "    plt.show()\n",
    "    "
   ]
  },
  {
   "cell_type": "code",
   "execution_count": 53,
   "id": "a36e6f29-ef2a-4315-bd2b-fdc9c725a34d",
   "metadata": {
    "tags": []
   },
   "outputs": [
    {
     "data": {
      "text/plain": [
       "(0.9898341266359247+0j)"
      ]
     },
     "execution_count": 53,
     "metadata": {},
     "output_type": "execute_result"
    }
   ],
   "source": [
    "x = np.hstack((np.linspace(0.01, 0.99, 500), np.linspace(1.1, 5, 500)))\n",
    "y = np.zeros(1000, dtype=complex)\n",
    "probs(2, 120)*Probs(2, 120)"
   ]
  },
  {
   "cell_type": "code",
   "execution_count": 45,
   "id": "9523030e-52ab-4d7d-bb55-b7f60587b7d6",
   "metadata": {
    "tags": []
   },
   "outputs": [
    {
     "data": {
      "text/plain": [
       "(0.9991129293378332-3.469446951953614e-17j)"
      ]
     },
     "execution_count": 45,
     "metadata": {},
     "output_type": "execute_result"
    }
   ],
   "source": [
    "Probs(9.3, 120)*probs(9.3, 120)"
   ]
  },
  {
   "cell_type": "code",
   "execution_count": 54,
   "id": "3cffa8dc-ecf0-4494-b788-e408ea945c35",
   "metadata": {
    "tags": []
   },
   "outputs": [
    {
     "data": {
      "application/vnd.jupyter.widget-view+json": {
       "model_id": "b1c1a9bdc0c0474392142b51a3cfdfaa",
       "version_major": 2,
       "version_minor": 0
      },
      "text/plain": [
       "interactive(children=(IntSlider(value=200, description='V_0', max=300, min=100), Output()), _dom_classes=('wid…"
      ]
     },
     "metadata": {},
     "output_type": "display_data"
    },
    {
     "data": {
      "text/plain": [
       "<function __main__.plotfunc(V_0)>"
      ]
     },
     "execution_count": 54,
     "metadata": {},
     "output_type": "execute_result"
    }
   ],
   "source": [
    "interact(plotfunc, V_0 = (100, 300))"
   ]
  },
  {
   "cell_type": "code",
   "execution_count": null,
   "id": "843eae95-d116-4ebf-8e60-6e508a1380f5",
   "metadata": {},
   "outputs": [],
   "source": []
  }
 ],
 "metadata": {
  "kernelspec": {
   "display_name": "Python 3 (ipykernel)",
   "language": "python",
   "name": "python3"
  },
  "language_info": {
   "codemirror_mode": {
    "name": "ipython",
    "version": 3
   },
   "file_extension": ".py",
   "mimetype": "text/x-python",
   "name": "python",
   "nbconvert_exporter": "python",
   "pygments_lexer": "ipython3",
   "version": "3.11.4"
  }
 },
 "nbformat": 4,
 "nbformat_minor": 5
}
